{
  "nbformat": 4,
  "nbformat_minor": 0,
  "metadata": {
    "colab": {
      "provenance": [],
      "authorship_tag": "ABX9TyPQmONQwQYJKeeGvsGuWqKb",
      "include_colab_link": true
    },
    "kernelspec": {
      "name": "python3",
      "display_name": "Python 3"
    },
    "language_info": {
      "name": "python"
    },
    "gpuClass": "standard"
  },
  "cells": [
    {
      "cell_type": "markdown",
      "metadata": {
        "id": "view-in-github",
        "colab_type": "text"
      },
      "source": [
        "<a href=\"https://colab.research.google.com/github/gdabrow/Investments/blob/main/stockAnalysis.ipynb\" target=\"_parent\"><img src=\"https://colab.research.google.com/assets/colab-badge.svg\" alt=\"Open In Colab\"/></a>"
      ]
    },
    {
      "cell_type": "markdown",
      "source": [
        "## **Information on companies listed on stock exchanges obtained from:**\n",
        "* https://seekingalpha.com/\n",
        "* https://www.zacks.com/\n",
        "* https://finance.yahoo.com/"
      ],
      "metadata": {
        "id": "ZSqkxcHVVWsC"
      }
    },
    {
      "cell_type": "code",
      "execution_count": 1,
      "metadata": {
        "id": "inOSAMTnvtG9"
      },
      "outputs": [],
      "source": [
        "# installation libraries\n",
        "! pip install yfinance --upgrade --no-cache-dir &> /dev/null\n",
        "! pip install beautifulsoup4 &> /dev/null\n",
        "! pip install cloudscraper &> /dev/null"
      ]
    },
    {
      "cell_type": "code",
      "source": [
        "# import libraries\n",
        "import yfinance as yf\n",
        "import pandas as pd\n",
        "from pandas.core.internals.base import DataManager\n",
        "from bs4 import BeautifulSoup\n",
        "import cloudscraper\n",
        "import plotly.graph_objects as go\n",
        "import plotly.express as px\n",
        "\n",
        "scraper = cloudscraper.create_scraper()\n",
        "\n",
        "# disk connection\n",
        "from google.colab import drive\n",
        "drive.mount('/content/drive')"
      ],
      "metadata": {
        "id": "aqBcaPiNJvNV",
        "colab": {
          "base_uri": "https://localhost:8080/"
        },
        "outputId": "87293984-9ace-4b4f-f409-7998f1be04a7"
      },
      "execution_count": 2,
      "outputs": [
        {
          "output_type": "stream",
          "name": "stdout",
          "text": [
            "Mounted at /content/drive\n"
          ]
        }
      ]
    },
    {
      "cell_type": "markdown",
      "source": [
        "**List with the data we are interested in**"
      ],
      "metadata": {
        "id": "4Ym6__YgdFR2"
      }
    },
    {
      "cell_type": "code",
      "source": [
        "# columns = ['symbol','currentPrice','recommendationKey', 'recommendationMean', 'targetLowPrice', 'targetLowPrice [%]',\n",
        "#          'targetMeanPrice', 'targetMeanPrice [%]', 'targetMedianPrice', 'targetMedianPrice [%]', 'targetHighPrice', 'targetHighPrice [%]',\n",
        "#          'P/E', 'Forward P/E', 'EPS past 5Y', 'EPS (ttm)', 'forwardEps', 'EPS next Q', 'EPS next Y', 'EPS next 5Y', 'Profit Margin',\n",
        "#           'ROA', 'ROE', 'ROI', 'currentRatio', 'quickRatio']\n",
        "\n",
        "columns = ['symbol','currentPrice','recommendationKey', 'recommendationMean', 'targetLowPrice [%]',\n",
        "           'targetMeanPrice [%]', 'targetMedianPrice [%]', 'targetHighPrice [%]', 'numberOfAnalystOpinions',\n",
        "           'P/E', 'EPS next Y', 'EPS next 5Y', 'Profit Margin',\n",
        "           'ROA', 'ROE', 'ROI', 'currentRatio', 'quickRatio']"
      ],
      "metadata": {
        "id": "9fS5tIfKcqHH"
      },
      "execution_count": 15,
      "outputs": []
    },
    {
      "cell_type": "markdown",
      "source": [
        "**Lists with tickers we are interested in**"
      ],
      "metadata": {
        "id": "eUFEfruyeu7j"
      }
    },
    {
      "cell_type": "code",
      "source": [
        "finansowa_edu = [ 'NFLX','MSFT','AAPL', 'NVDA','V','JNJ','AZN','SAP', 'RGEN','PG','AMT','GOOGL','AMZN']\n",
        "Trela = ['TSM','INTU','NOW','PTC','ALGN','AMZN','QCOM', 'MA','ASML','MPWR','NVDA', 'AMD']\n",
        "Kupione = ['EXAS', 'META', 'NIO', 'PDD', 'CRWD', 'MKSI', 'MDT', 'TSM', 'NFLX', 'MSFT', 'AAPL', 'V', 'BABA', 'TSM']\n",
        "DNA = ['ROKU', 'TWLO', 'SE', 'DIS', 'UUUU', 'DNN']"
      ],
      "metadata": {
        "id": "CRGB_9U_duA9"
      },
      "execution_count": 16,
      "outputs": []
    },
    {
      "cell_type": "markdown",
      "source": [
        "**Tickers from seekingalpha if we want**"
      ],
      "metadata": {
        "id": "BNCJM-Qu4qoa"
      }
    },
    {
      "cell_type": "code",
      "source": [
        "# data from a file on disk\n",
        "seekingalpha = pd.read_csv('/content/drive/MyDrive/Colab Notebooks/TopGrowth.csv')\n",
        "alpha = list(seekingalpha.Symbol)"
      ],
      "metadata": {
        "id": "5QV2tJOPERaK"
      },
      "execution_count": 17,
      "outputs": []
    },
    {
      "cell_type": "markdown",
      "source": [
        "**Selection of a list of tickers for analysis**"
      ],
      "metadata": {
        "id": "wWfOQqcW64KZ"
      }
    },
    {
      "cell_type": "code",
      "source": [
        "Tickers = alpha\n",
        "output_name = 'alpha'"
      ],
      "metadata": {
        "id": "LHvyG_zK--A9"
      },
      "execution_count": 18,
      "outputs": []
    },
    {
      "cell_type": "markdown",
      "source": [
        "**Downloading data from finviz and finance.yahoo**"
      ],
      "metadata": {
        "id": "5Iaui4W96-p2"
      }
    },
    {
      "cell_type": "code",
      "source": [
        "asset = pd.DataFrame(columns=columns)\n",
        "\n",
        "for tic in Tickers: \n",
        "\n",
        "  url = 'https://finviz.com/quote.ashx?t=' + tic\n",
        "  page = scraper.get(url)\n",
        "  page_html = BeautifulSoup(page.content, 'html.parser')\n",
        "  table = page_html.find_all('tr', class_='table-dark-row')\n",
        "  \n",
        "  if table == []:\n",
        "    continue\n",
        "\n",
        "  names = []\n",
        "  value = []\n",
        "\n",
        "  # Downloading data from finviz (website source)\n",
        "  for row in table:\n",
        "    for name in row.find_all('td', class_='snapshot-td2-cp'):\n",
        "      names.append(name.text)\n",
        "\n",
        "    for name in row.find_all('td', class_='snapshot-td2'):\n",
        "      if name.text == '-':\n",
        "        v = 0\n",
        "      else:\n",
        "        v = name.text\n",
        "      value.append(v)\n",
        "\n",
        "  # Data connection in dictionary\n",
        "  finviz = dict(zip(names, value))\n",
        "\n",
        "  # Downloading data from finance.yahoo API\n",
        "  data = yf.Ticker(tic).info\n",
        "\n",
        "  # Data connection finance.yahoo + finviz\n",
        "  data.update(finviz)\n",
        "\n",
        "# Conversion to percentages\n",
        "  for_percentage = {'targetLowPrice [%]':'targetLowPrice', 'targetMeanPrice [%]':'targetMeanPrice',\n",
        "                    'targetMedianPrice [%]': 'targetMedianPrice', 'targetHighPrice [%]':'targetHighPrice'}\n",
        "\n",
        "  for col in for_percentage:\n",
        "    try:\n",
        "      data[col] = round(100 * float(data[for_percentage[col]])/float(data['currentPrice'])-100)\n",
        "    except:\n",
        "      data[col] = '-'\n",
        "\n",
        "  row={}\n",
        "  for col in columns:\n",
        "    row[col] = data[col]\n",
        "\n",
        "  asset = asset.append(row, ignore_index=True)\n",
        "\n",
        "\n",
        "# Columns that need to be reformatted to number\n",
        "colum = ['EPS next Y', 'EPS next 5Y', 'Profit Margin', 'ROA', 'ROE', 'ROI']\n",
        "\n",
        "for col in colum:\n",
        "  asset[col] = asset[col].str.replace(\"%\", \"\").astype(float)\n",
        "\n",
        "asset.set_index('symbol', inplace=True)"
      ],
      "metadata": {
        "id": "kl486tPZ8TV9"
      },
      "execution_count": 19,
      "outputs": []
    },
    {
      "cell_type": "markdown",
      "source": [
        "**Downloading data from Zacks**"
      ],
      "metadata": {
        "id": "HOv3Y0YWYzZD"
      }
    },
    {
      "cell_type": "code",
      "source": [
        "zacks = []\n",
        "\n",
        "for tic in Tickers:\n",
        "  url = 'https://www.zacks.com/stock/quote/' + tic\n",
        "  page = scraper.get(url)\n",
        "  page_html = BeautifulSoup(page.content, 'html.parser')\n",
        "  table = page_html.find_all('p', class_=\"rank_view\")\n",
        "  try:\n",
        "    zac = list(table[0].get_text().replace(\" \", \"\"))[1]\n",
        "  except IndexError:\n",
        "    zacks.append(0)\n",
        "    continue\n",
        "\n",
        "  zacks.append(zac)"
      ],
      "metadata": {
        "id": "ZoQWmAIJJKmk"
      },
      "execution_count": 20,
      "outputs": []
    },
    {
      "cell_type": "markdown",
      "source": [
        "**Table formatting for future connection (if you use seekingalpha)**"
      ],
      "metadata": {
        "id": "LSXnfZPsZfjC"
      }
    },
    {
      "cell_type": "code",
      "source": [
        "seekingalpha['zacks'] = zacks\n",
        "seekingalpha.drop(columns='Rank', inplace=True)\n",
        "seekingalpha.set_index('Symbol', inplace=True)\n",
        "asset.rename_axis(\"Symbol\", inplace=True)\n",
        "\n",
        "#Table joins\n",
        "asset = pd.merge(left=seekingalpha, right=asset, on='Symbol')"
      ],
      "metadata": {
        "id": "AcfO7R7p-soM"
      },
      "execution_count": 10,
      "outputs": []
    },
    {
      "cell_type": "markdown",
      "source": [
        "**Saving data to disk**"
      ],
      "metadata": {
        "id": "L2sV5ZADlm0G"
      }
    },
    {
      "cell_type": "code",
      "source": [
        "asset.to_csv('/content/drive/MyDrive/Colab Notebooks/'+ output_name +'.csv')"
      ],
      "metadata": {
        "id": "vvf7O9FmalXO"
      },
      "execution_count": null,
      "outputs": []
    },
    {
      "cell_type": "markdown",
      "source": [
        "**Data visualization**"
      ],
      "metadata": {
        "id": "0dz5z_vPmqKT"
      }
    },
    {
      "cell_type": "code",
      "source": [
        "# chart titles\n",
        "title = ['Recommendation mean', 'Target low price [%]',\n",
        "           'Target mean price [%]', 'Target median price [%]', 'Target high price [%]',\n",
        "           'P/E', 'EPS next Y', 'EPS next 5Y', 'Profit Margin',\n",
        "           'ROA', 'ROE', 'ROI', 'Current ratio', 'Quick ratio']\n",
        "\n",
        "col_tite = dict(zip(columns[3:], title))\n",
        "\n",
        "for statistics in col_tite:\n",
        "  fig = px.bar(asset, x=asset.index, y=statistics, title=col_tite[statistics])\n",
        "  fig.show()"
      ],
      "metadata": {
        "id": "QEw7AQlpkTOj"
      },
      "execution_count": null,
      "outputs": []
    },
    {
      "cell_type": "code",
      "source": [
        "def chart(symbol):\n",
        "\n",
        "  tic = yf.Ticker(symbol)\n",
        "  data = tic.history(period = \"ytd\")\n",
        "  data['targetLowPrice'] = asset.loc[symbol, 'targetLowPrice']\n",
        "  data['targetMeanPrice'] = asset.loc[symbol, 'targetMeanPrice']\n",
        "  data['targetHighPrice'] = asset.loc[symbol, 'targetHighPrice']\n",
        "\n",
        "  fig = go.Figure()\n",
        "\n",
        "  fig.add_trace(go.Scatter(x=data.index, y=data.Close,\n",
        "                             mode='lines',\n",
        "                             name='Close'))\n",
        "  \n",
        "  fig.add_trace(go.Scatter(x=data.index, y=data['targetLowPrice'],\n",
        "                             mode='lines',\n",
        "                             name=asset.loc[symbol, 'targetLowPrice [%]']))\n",
        "  \n",
        "  fig.add_trace(go.Scatter(x=data.index, y=data['targetMeanPrice'],\n",
        "                           mode='lines',\n",
        "                           name=asset.loc[symbol, 'targetMeanPrice [%]']))\n",
        "\n",
        "  fig.add_trace(go.Scatter(x=data.index, y=data['targetHighPrice'],\n",
        "                           mode='lines',\n",
        "                           name=asset.loc[symbol, 'targetHighPrice [%]']))\n",
        "  fig.show()"
      ],
      "metadata": {
        "id": "vP-G6_Q-Dh5d"
      },
      "execution_count": null,
      "outputs": []
    },
    {
      "cell_type": "code",
      "source": [
        "chart('BABA')"
      ],
      "metadata": {
        "id": "CFUqZ3gnPQys"
      },
      "execution_count": null,
      "outputs": []
    }
  ]
}