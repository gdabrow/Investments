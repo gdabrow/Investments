{
  "cells": [
    {
      "cell_type": "markdown",
      "metadata": {
        "id": "view-in-github",
        "colab_type": "text"
      },
      "source": [
        "<a href=\"https://colab.research.google.com/github/gdabrow/Investments/blob/main/stockAnalysis.ipynb\" target=\"_parent\"><img src=\"https://colab.research.google.com/assets/colab-badge.svg\" alt=\"Open In Colab\"/></a>"
      ]
    },
    {
      "cell_type": "markdown",
      "metadata": {
        "id": "ZSqkxcHVVWsC"
      },
      "source": [
        "## **Information on companies listed on stock exchanges obtained from:**\n",
        "* https://seekingalpha.com/\n",
        "* https://www.zacks.com/\n",
        "* https://finance.yahoo.com/"
      ]
    },
    {
      "cell_type": "code",
      "execution_count": null,
      "metadata": {
        "id": "inOSAMTnvtG9"
      },
      "outputs": [],
      "source": [
        "# installation libraries\n",
        "! pip install yfinance --upgrade --no-cache-dir &> /dev/null\n",
        "! pip install beautifulsoup4 &> /dev/null\n",
        "! pip install cloudscraper &> /dev/null"
      ]
    },
    {
      "cell_type": "code",
      "execution_count": null,
      "metadata": {
        "id": "aqBcaPiNJvNV"
      },
      "outputs": [],
      "source": [
        "# import libraries\n",
        "import yfinance as yf\n",
        "import pandas as pd\n",
        "import cloudscraper\n",
        "import urllib.parse\n",
        "import plotly.graph_objects as go\n",
        "import plotly.express as px\n",
        "import random\n",
        "\n",
        "scraper = cloudscraper.create_scraper()\n",
        "\n",
        "# disk connection\n",
        "from google.colab import drive\n",
        "drive.mount('/content/drive')"
      ]
    },
    {
      "cell_type": "markdown",
      "metadata": {
        "id": "4Ym6__YgdFR2"
      },
      "source": [
        "**List with the data we are interested in**"
      ]
    },
    {
      "cell_type": "code",
      "execution_count": null,
      "metadata": {
        "id": "9fS5tIfKcqHH"
      },
      "outputs": [],
      "source": [
        "# columns = ['symbol','currentPrice','recommendationKey', 'recommendationMean', 'targetLowPrice', 'targetLowPrice [%]',\n",
        "#          'targetMeanPrice', 'targetMeanPrice [%]', 'targetMedianPrice', 'targetMedianPrice [%]', 'targetHighPrice', 'targetHighPrice [%]',\n",
        "#          'P/E', 'Forward P/E', 'EPS past 5Y', 'EPS (ttm)', 'forwardEps', 'EPS next Q', 'EPS next Y', 'EPS next 5Y', 'Profit Margin',\n",
        "#           'ROA', 'ROE', 'ROI', 'currentRatio', 'quickRatio']\n",
        "\n",
        "columns = ['symbol','currentPrice','recommendationKey', 'recommendationMean', 'targetLowPrice [%]',\n",
        "           'targetMeanPrice [%]', 'targetMedianPrice [%]', 'targetHighPrice [%]', 'numberOfAnalystOpinions',\n",
        "           'P/E', 'EPS next Y', 'EPS next 5Y', 'Profit Margin',\n",
        "           'ROA', 'ROE', 'ROI', 'currentRatio', 'quickRatio', 'Insider Trans', 'Inst Trans']"
      ]
    },
    {
      "cell_type": "markdown",
      "metadata": {
        "id": "eUFEfruyeu7j"
      },
      "source": [
        "**Lists with tickers we are interested in**"
      ]
    },
    {
      "cell_type": "code",
      "execution_count": null,
      "metadata": {
        "id": "CRGB_9U_duA9"
      },
      "outputs": [],
      "source": [
        "finansowa_edu = [ 'NFLX','MSFT','AAPL', 'NVDA','V','JNJ','AZN','SAP', 'RGEN','PG','AMT','GOOGL','AMZN']\n",
        "Trela = ['TSM','INTU','NOW','PTC','ALGN','AMZN','QCOM', 'MA','ASML','MPWR','NVDA', 'AMD']\n",
        "Kupione = ['EXAS', 'META', 'NIO', 'PDD', 'CRWD', 'MKSI', 'MDT', 'TSM', 'NFLX', 'MSFT', 'AAPL', 'V', 'BABA', 'TSM']\n",
        "DNA = ['ROKU', 'TWLO', 'SE', 'DIS', 'UUUU', 'DNN']"
      ]
    },
    {
      "cell_type": "markdown",
      "metadata": {
        "id": "BNCJM-Qu4qoa"
      },
      "source": [
        "**Tickers from seekingalpha if we want**"
      ]
    },
    {
      "cell_type": "code",
      "execution_count": null,
      "metadata": {
        "id": "5QV2tJOPERaK"
      },
      "outputs": [],
      "source": [
        "# data from a file on disk\n",
        "name='TopHealthcare'\n",
        "seekingalpha = pd.read_excel('/content/drive/MyDrive/Colab Notebooks/'+name+'.xlsx')\n",
        "alpha = list(seekingalpha.Symbol)"
      ]
    },
    {
      "cell_type": "markdown",
      "metadata": {
        "id": "wWfOQqcW64KZ"
      },
      "source": [
        "**Selection of a list of tickers for analysis**"
      ]
    },
    {
      "cell_type": "code",
      "execution_count": null,
      "metadata": {
        "id": "LHvyG_zK--A9"
      },
      "outputs": [],
      "source": [
        "Tickers = DNA"
      ]
    },
    {
      "cell_type": "markdown",
      "metadata": {
        "id": "5Iaui4W96-p2"
      },
      "source": [
        "**Downloading data from finviz and finance.yahoo**"
      ]
    },
    {
      "cell_type": "code",
      "execution_count": null,
      "metadata": {
        "id": "kl486tPZ8TV9"
      },
      "outputs": [],
      "source": [
        "asset = pd.DataFrame(columns=columns)\n",
        "\n",
        "for tic in Tickers: \n",
        "\n",
        "  url = 'https://finviz.com/quote.ashx?t=' + tic\n",
        "  page = scraper.get(url)\n",
        "  page_html = BeautifulSoup(page.content, 'html.parser')\n",
        "  table = page_html.find_all('tr', class_='table-dark-row')\n",
        "  \n",
        "  if table == []:\n",
        "    continue\n",
        "\n",
        "  names = []\n",
        "  value = []\n",
        "\n",
        "  # Downloading data from finviz (website source)\n",
        "  for row in table:\n",
        "    for name in row.find_all('td', class_='snapshot-td2-cp'):\n",
        "      names.append(name.text)\n",
        "\n",
        "    for name in row.find_all('td', class_='snapshot-td2'):\n",
        "      if name.text == '-':\n",
        "        v = 0\n",
        "      else:\n",
        "        v = name.text\n",
        "      value.append(v)\n",
        "\n",
        "  # Data connection in dictionary\n",
        "  finviz = dict(zip(names, value))\n",
        "\n",
        "  # Downloading data from finance.yahoo API\n",
        "  for _ in range(10):\n",
        "    try:\n",
        "      #data = yf.Ticker(tic).info\n",
        "      data = yf.Ticker.basic_info(tic)\n",
        "      break\n",
        "    except:\n",
        "      continue\n",
        "\n",
        "  # Data connection finance.yahoo + finviz\n",
        "  data.update(finviz)\n",
        "\n",
        "# Conversion to percentages\n",
        "  for_percentage = {'targetLowPrice [%]':'targetLowPrice', 'targetMeanPrice [%]':'targetMeanPrice',\n",
        "                    'targetMedianPrice [%]': 'targetMedianPrice', 'targetHighPrice [%]':'targetHighPrice'}\n",
        "\n",
        "  for col in for_percentage:\n",
        "    try:\n",
        "      data[col] = round(100 * float(data[for_percentage[col]])/float(data['currentPrice'])-100)\n",
        "    except:\n",
        "      data[col] = '-'\n",
        "\n",
        "  row={}\n",
        "  for col in columns:\n",
        "\n",
        "    try:\n",
        "      row[col] = data[col]\n",
        "    except:\n",
        "      row[col] = '-'\n",
        "\n",
        "  asset = asset.append(row, ignore_index=True)\n",
        "\n",
        "\n",
        "# Columns that need to be reformatted to number\n",
        "colum = ['EPS next Y', 'EPS next 5Y', 'Profit Margin', 'ROA', 'ROE', 'ROI', 'Insider Trans', 'Inst Trans']\n",
        "\n",
        "for col in colum:\n",
        "  asset[col] = asset[col].str.replace(\"%\", \"\").astype(float)\n",
        "\n",
        "asset.set_index('symbol', inplace=True)"
      ]
    },
    {
      "cell_type": "markdown",
      "metadata": {
        "id": "HOv3Y0YWYzZD"
      },
      "source": [
        "**Downloading data from Zacks**"
      ]
    },
    {
      "cell_type": "code",
      "execution_count": null,
      "metadata": {
        "id": "ZoQWmAIJJKmk"
      },
      "outputs": [],
      "source": [
        "# In case Zacks realizes the page is scrapped you can get help from scrapeops.io\n",
        "\n",
        "API_KEY = 'xxxxx'\n",
        "\n",
        "def get_scrapeops_url(url):\n",
        "  payload = {'api_key': API_KEY, 'url': url, 'bypass': 'cloudflare'}\n",
        "  proxy_url = 'https://proxy.scrapeops.io/v1/?' + urllib.parse.urlencode(payload)\n",
        "  return proxy_url\n",
        "\n",
        "#Fake user agent for scraper\n",
        "user_agents_list = ['Mozilla/5.0 (iPad; CPU OS 12_2 like Mac OS X) AppleWebKit/605.1.15 (KHTML, like Gecko) Mobile/15E148',\n",
        "                    'Mozilla/5.0 (Macintosh; Intel Mac OS X 10_15_7) AppleWebKit/537.36 (KHTML, like Gecko) Chrome/99.0.4844.83 Safari/537.36',\n",
        "                    'Mozilla/5.0 (Windows NT 10.0; Win64; x64) AppleWebKit/537.36 (KHTML, like Gecko) Chrome/99.0.4844.51 Safari/537.36']\n",
        "\n",
        "zacks = []\n",
        "\n",
        "for tic in Tickers:\n",
        "  url = 'https://www.zacks.com/stock/quote/' + tic\n",
        "  try:\n",
        "    page = scraper.get(url, headers={'User-Agent': random.choice(user_agents_list)})\n",
        "    #page = scraper.get(get_scrapeops_url(url))\n",
        "  except:\n",
        "    zacks.append(0)\n",
        "    continue\n",
        "\n",
        "  page_html = BeautifulSoup(page.content, 'html.parser')\n",
        "  table = page_html.find_all('p', class_=\"rank_view\")\n",
        "  try:\n",
        "    zac = list(table[0].get_text().replace(\" \", \"\"))[1]\n",
        "  except IndexError:\n",
        "    zacks.append(0)\n",
        "    continue\n",
        "\n",
        "  zacks.append(zac)"
      ]
    },
    {
      "cell_type": "markdown",
      "metadata": {
        "id": "LSXnfZPsZfjC"
      },
      "source": [
        "**Table formatting for future connection (if you use seekingalpha)**"
      ]
    },
    {
      "cell_type": "code",
      "execution_count": null,
      "metadata": {
        "id": "AcfO7R7p-soM"
      },
      "outputs": [],
      "source": [
        "seekingalpha['zacks'] = zacks\n",
        "seekingalpha.drop(columns='Rank', inplace=True)\n",
        "seekingalpha.set_index('Symbol', inplace=True)\n",
        "asset.rename_axis(\"Symbol\", inplace=True)\n",
        "\n",
        "#Table joins\n",
        "asset = pd.merge(left=seekingalpha, right=asset, on='Symbol')"
      ]
    },
    {
      "cell_type": "markdown",
      "metadata": {
        "id": "WDKHDdBuF8LP"
      },
      "source": [
        "**Preparation of a table for scoring purposes**"
      ]
    },
    {
      "cell_type": "code",
      "execution_count": null,
      "metadata": {
        "id": "6HXkKO2FGPwx"
      },
      "outputs": [],
      "source": [
        "scoring = pd.DataFrame()"
      ]
    },
    {
      "cell_type": "code",
      "execution_count": null,
      "metadata": {
        "id": "1rL3r9cYYCQ9"
      },
      "outputs": [],
      "source": [
        "# Changing the ranking to the \"more the better\" and rescaling it to values between 0 and 1\n",
        "# Check if the column is an object, if so, change \"nan\" to 100 and change to float\n",
        "if asset.recommendationMean.dtypes == 'O':\n",
        "  scoring['recommendationMean'] = asset['recommendationMean'].str.replace(\",\", \".\")\n",
        "  scoring['recommendationMean'] = scoring['recommendationMean'].str.replace(\"-\", \"0\")\n",
        "  scoring['recommendationMean'] = scoring.recommendationMean.fillna(100).astype('float')\n",
        "  scoring['recommendationMean'] = (5/scoring.recommendationMean)/5\n",
        "else:\n",
        "  scoring['recommendationMean'] = (5/asset.recommendationMean)/5\n",
        "\n",
        "\n",
        "# Convert str to float and rescaling to values between 0 and 1\n",
        "\n",
        "if asset['Quant'].dtypes == 'O':\n",
        "  scoring['Quant'] = asset.Quant.str.replace(\",\", \".\").astype('float')\n",
        "  scoring['Quant'] = scoring['Quant']/5\n",
        "else:\n",
        "  scoring['Quant'] = asset['Quant']/5\n",
        "\n",
        "\n",
        "if asset['SA Authors'].dtypes == 'O':\n",
        "  scoring['SA Authors'] = asset['SA Authors'].str.replace(\",\", \".\")\n",
        "  scoring['SA Authors'] = scoring['SA Authors'].str.replace(\"-\", \"0\")\n",
        "  scoring['SA Authors'] = scoring['SA Authors'].astype('float')/5\n",
        "else:\n",
        "  scoring['SA Authors'] = asset['SA Authors'].astype('float')/5\n",
        "\n",
        "\n",
        "if asset['Wall St.'].dtypes == 'O':\n",
        "  scoring['Wall St.'] = asset['Wall St.'].str.replace(\",\", \".\")\n",
        "  scoring['Wall St.'] = scoring['Wall St.'].str.replace(\"-\", \"0\")\n",
        "  scoring['Wall St.'] = scoring['Wall St.'].astype('float')/5\n",
        "else:\n",
        "  scoring['Wall St.'] = asset['Wall St.'].astype('float')/5"
      ]
    },
    {
      "cell_type": "code",
      "execution_count": null,
      "metadata": {
        "id": "NAbNy8tiuaVY"
      },
      "outputs": [],
      "source": [
        "def conversion(x, thresholds):\n",
        "\n",
        "  \"\"\"\n",
        "    Converts the value of x to a value between (0,1) based on a thresholds array.\n",
        "\n",
        "    Args:\n",
        "      x (float) - value to converts\n",
        "      thresholds - (length 3 array of int) - thresholds for conversion\n",
        "\n",
        "    Returns:\n",
        "      value between (0,1)\n",
        "  \"\"\"\n",
        "\n",
        "  if pd.isna(x):\n",
        "    return 0\n",
        "  elif x <= 0:\n",
        "    return 0\n",
        "  elif 0 < x <= thresholds[0]:\n",
        "    return .25\n",
        "  elif thresholds[0]<x<=thresholds[1]:\n",
        "    return .5\n",
        "  elif thresholds[1]<x<=thresholds[2]:\n",
        "    return .75\n",
        "  else:\n",
        "    return 1"
      ]
    },
    {
      "cell_type": "code",
      "execution_count": null,
      "metadata": {
        "id": "ACVEgKJdr9NU"
      },
      "outputs": [],
      "source": [
        "# Dictionary with thresholds to convert the corresponding columns\n",
        "dictForConv = {'targetLowPrice [%]':[5,10,20],\n",
        "                 'targetMeanPrice [%]':[20,40,60],\n",
        "                 'targetMedianPrice [%]':[20,40,60],\n",
        "                 'targetHighPrice [%]':[40,60,80],\n",
        "                 'numberOfAnalystOpinions':[3,10,15],\n",
        "                 'EPS next Y':[5,10,15],\n",
        "                 'EPS next 5Y':[5,15,25],\n",
        "                 'Profit Margin':[10,20,30],\n",
        "                 'ROA':[10,20,30],\n",
        "                 'ROE':[15,30,45],\n",
        "                 'ROI':[15,30,40],\n",
        "                 'currentRatio':[1,3,5],\n",
        "                 'quickRatio':[1,3,5],\n",
        "                 'Insider Trans':[5,10,20],\n",
        "                 'Inst Trans':[5,10,20]}"
      ]
    },
    {
      "cell_type": "code",
      "execution_count": null,
      "metadata": {
        "id": "qmTbgdXPQoQT"
      },
      "outputs": [],
      "source": [
        "# Column conversion\n",
        "for col in dictForConv:\n",
        "  if asset[col].dtypes == 'O':\n",
        "    scoring[col] = asset[col].str.replace(\",\", \".\")\n",
        "    scoring[col] = scoring[col].str.replace(\"-\", \"0\")\n",
        "    scoring[col] = scoring[col].fillna('0').astype('float')\n",
        "  else:\n",
        "    scoring[col] = asset[col].apply(lambda x: conversion(x,dictForConv[col]))"
      ]
    },
    {
      "cell_type": "code",
      "execution_count": null,
      "metadata": {
        "id": "ZxCkwAHma-oP"
      },
      "outputs": [],
      "source": [
        "# Dictionaries to convert the remaining columns\n",
        "seekingalphaMap = {'A+':1, 'A': .9, 'A-': .8, 'B+': .7, 'B': .6, 'B-': .5, 'C+': .4, 'C-': .3, 'D+': .2, 'D': .1, 'D-': 0, 'F': 0, '-':0}\n",
        "colToConvert = ['Valuation',\t'Growth',\t'Profitability', 'Momentum']\n",
        "\n",
        "# conversion\n",
        "for col in colToConvert:\n",
        "  scoring[col] = asset[col].map(seekingalphaMap)\n",
        "\n",
        "# Dictionery to convert 'zacks' column\n",
        "#zacksMap = {'1':1, '2':.75, '3':.5, '4':.25, '5':0}\n",
        "zacksMap = {1:1, 2:.75, 3:.5, 4:.25, 5:0, 0:0}\n",
        "\n",
        "# conversion\n",
        "scoring['zacks'] = asset['zacks'].map(zacksMap)"
      ]
    },
    {
      "cell_type": "code",
      "execution_count": null,
      "metadata": {
        "id": "n4nuTOCmf5aI"
      },
      "outputs": [],
      "source": [
        "weightDict = {'recommendationMean':1,\n",
        "           'Quant':1.2,\n",
        "           'SA Authors':1,\n",
        "           'Wall St.':1.2,\n",
        "           'targetLowPrice [%]':1,\n",
        "           'targetMeanPrice [%]':1.2,\n",
        "           'targetMedianPrice [%]':1.2,\n",
        "           'targetHighPrice [%]':1,\n",
        "           'numberOfAnalystOpinions':1,\n",
        "           'EPS next Y':1.2,\n",
        "           'EPS next 5Y':1,\n",
        "           'Profit Margin':1,\n",
        "           'ROA':1,\n",
        "           'ROE':1,\n",
        "           'ROI':1,\n",
        "           'currentRatio':1,\n",
        "           'quickRatio':1,\n",
        "           'Insider Trans':1,\n",
        "           'Inst Trans':1,\n",
        "           'Valuation':1,\n",
        "           'Growth':1,\n",
        "           'Profitability':1,\n",
        "           'Momentum':1,\n",
        "           'zacks':1.2}\n",
        "\n",
        "weight = list(weightDict.values())\n",
        "  "
      ]
    },
    {
      "cell_type": "markdown",
      "metadata": {
        "id": "l5y2vfyEi4l3"
      },
      "source": [
        "**Weighing and adding scoring**"
      ]
    },
    {
      "cell_type": "code",
      "execution_count": null,
      "metadata": {
        "id": "hTZhxXsgkx8K"
      },
      "outputs": [],
      "source": [
        "scoring = scoring * weight\n",
        "scoring = scoring.sum(axis=1)\n",
        "asset['scoring']= scoring"
      ]
    },
    {
      "cell_type": "markdown",
      "metadata": {
        "id": "L2sV5ZADlm0G"
      },
      "source": [
        "**Saving data to disk**"
      ]
    },
    {
      "cell_type": "code",
      "execution_count": null,
      "metadata": {
        "id": "vvf7O9FmalXO"
      },
      "outputs": [],
      "source": [
        "name='TopHealthcare'\n",
        "asset.to_excel('/content/drive/MyDrive/Colab Notebooks/output_'+ name +'.xlsx')"
      ]
    },
    {
      "cell_type": "markdown",
      "metadata": {
        "id": "0dz5z_vPmqKT"
      },
      "source": [
        "**Data visualization**"
      ]
    },
    {
      "cell_type": "code",
      "execution_count": null,
      "metadata": {
        "id": "vP-G6_Q-Dh5d"
      },
      "outputs": [],
      "source": [
        "def chart(symbol):\n",
        "\n",
        "  tic = yf.Ticker(symbol)\n",
        "  data = tic.history(period = \"ytd\")\n",
        "  data['targetLowPrice'] = asset.loc[symbol, 'targetLowPrice']\n",
        "  data['targetMeanPrice'] = asset.loc[symbol, 'targetMeanPrice']\n",
        "  data['targetHighPrice'] = asset.loc[symbol, 'targetHighPrice']\n",
        "\n",
        "  fig = go.Figure()\n",
        "\n",
        "  fig.add_trace(go.Scatter(x=data.index, y=data.Close,\n",
        "                             mode='lines',\n",
        "                             name='Close'))\n",
        "  \n",
        "  fig.add_trace(go.Scatter(x=data.index, y=data['targetLowPrice'],\n",
        "                             mode='lines',\n",
        "                             name=asset.loc[symbol, 'targetLowPrice [%]']))\n",
        "  \n",
        "  fig.add_trace(go.Scatter(x=data.index, y=data['targetMeanPrice'],\n",
        "                           mode='lines',\n",
        "                           name=asset.loc[symbol, 'targetMeanPrice [%]']))\n",
        "\n",
        "  fig.add_trace(go.Scatter(x=data.index, y=data['targetHighPrice'],\n",
        "                           mode='lines',\n",
        "                           name=asset.loc[symbol, 'targetHighPrice [%]']))\n",
        "  fig.show()"
      ]
    },
    {
      "cell_type": "code",
      "execution_count": null,
      "metadata": {
        "id": "QEw7AQlpkTOj"
      },
      "outputs": [],
      "source": [
        "# chart titles\n",
        "title = ['Recommendation mean', 'Target low price [%]',\n",
        "           'Target mean price [%]', 'Target median price [%]', 'Target high price [%]',\n",
        "           'P/E', 'EPS next Y', 'EPS next 5Y', 'Profit Margin',\n",
        "           'ROA', 'ROE', 'ROI', 'Current ratio', 'Quick ratio']\n",
        "\n",
        "col_tite = dict(zip(columns[3:], title))\n",
        "\n",
        "for statistics in col_tite:\n",
        "  fig = px.bar(asset, x=asset.index, y=statistics, title=col_tite[statistics])\n",
        "  fig.show()"
      ]
    }
  ],
  "metadata": {
    "colab": {
      "provenance": [],
      "authorship_tag": "ABX9TyMgvU07cyKiOWlNf3Gqy5wj",
      "include_colab_link": true
    },
    "gpuClass": "standard",
    "kernelspec": {
      "display_name": "Python 3",
      "name": "python3"
    },
    "language_info": {
      "name": "python"
    }
  },
  "nbformat": 4,
  "nbformat_minor": 0
}