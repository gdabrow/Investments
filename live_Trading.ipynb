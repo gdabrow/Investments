{
  "cells": [
    {
      "cell_type": "markdown",
      "metadata": {
        "id": "view-in-github",
        "colab_type": "text"
      },
      "source": [
        "<a href=\"https://colab.research.google.com/github/gdabrow/Investments/blob/main/live_Trading.ipynb\" target=\"_parent\"><img src=\"https://colab.research.google.com/assets/colab-badge.svg\" alt=\"Open In Colab\"/></a>"
      ]
    },
    {
      "cell_type": "markdown",
      "source": [
        "**This notebook is about real-time cryptocurrency trading on the Binance exchange**"
      ],
      "metadata": {
        "id": "oZdxSkHhmOnJ"
      }
    },
    {
      "cell_type": "code",
      "execution_count": null,
      "metadata": {
        "id": "QtCvH-Fgo2X0"
      },
      "outputs": [],
      "source": [
        "!pip install pandas_ta\n",
        "!pip install python-binance"
      ]
    },
    {
      "cell_type": "code",
      "execution_count": null,
      "metadata": {
        "id": "8mVf9bZdntXx"
      },
      "outputs": [],
      "source": [
        "from binance.client import Client\n",
        "import pandas as pd\n",
        "import pandas_ta as ta\n",
        "import time\n",
        "\n",
        "client = Client()\n",
        "\n",
        "#from google.colab import drive\n",
        "#drive.mount('/content/drive')"
      ]
    },
    {
      "cell_type": "code",
      "execution_count": null,
      "metadata": {
        "colab": {
          "base_uri": "https://localhost:8080/",
          "height": 410
        },
        "id": "A3-_1zynq51O",
        "outputId": "374f9ce2-d59c-4fa0-c64d-ffcd1ddc6a0a",
        "collapsed": true
      },
      "outputs": [
        {
          "output_type": "stream",
          "name": "stdout",
          "text": [
            "41295.64 41656.82223264641\n",
            "41285.01 41656.1364261948\n",
            "41285.0 41656.1357810335\n",
            "41285.02 41656.13707135608\n",
            "41284.3 41656.09061974318\n",
            "41260.76 41654.57191006576\n",
            "41283.08 41656.01191006576\n",
            "41299.99 41657.1028778077\n",
            "41307.48 41657.58610361415\n",
            "41332.18 41659.17965200124\n",
            "41327.79 41658.8964261948\n",
            "41360.04 41660.97707135609\n"
          ]
        },
        {
          "output_type": "error",
          "ename": "KeyboardInterrupt",
          "evalue": "ignored",
          "traceback": [
            "\u001b[0;31m---------------------------------------------------------------------------\u001b[0m",
            "\u001b[0;31mKeyboardInterrupt\u001b[0m                         Traceback (most recent call last)",
            "\u001b[0;32m<ipython-input-3-b00bb80f374a>\u001b[0m in \u001b[0;36m<module>\u001b[0;34m()\u001b[0m\n\u001b[1;32m     69\u001b[0m     \u001b[0mi\u001b[0m\u001b[0;34m=\u001b[0m\u001b[0;36m0\u001b[0m\u001b[0;34m\u001b[0m\u001b[0;34m\u001b[0m\u001b[0m\n\u001b[1;32m     70\u001b[0m \u001b[0;34m\u001b[0m\u001b[0m\n\u001b[0;32m---> 71\u001b[0;31m   \u001b[0mtime\u001b[0m\u001b[0;34m.\u001b[0m\u001b[0msleep\u001b[0m\u001b[0;34m(\u001b[0m\u001b[0;36m1\u001b[0m\u001b[0;34m)\u001b[0m\u001b[0;34m\u001b[0m\u001b[0;34m\u001b[0m\u001b[0m\n\u001b[0m",
            "\u001b[0;31mKeyboardInterrupt\u001b[0m: "
          ]
        }
      ],
      "source": [
        "cryptocurrency = 'BTCUSDT'\n",
        "\n",
        "#download the latest data from Binance\n",
        "dane=pd.DataFrame(client.get_historical_klines(cryptocurrency, '1h','2h ago UTC' ), dtype=float)\n",
        "\n",
        "#finding last price\n",
        "close=dane[[4]]\n",
        "last_price = close[-1] \n",
        "\n",
        "#setting initial variables\n",
        "\n",
        "#are we out of the market ?\n",
        "traid = 'out'\n",
        "#stop loss for buy\n",
        "slb=0\n",
        "#iterator\n",
        "i=0\n",
        "\n",
        "interval='1h'\n",
        "backTo='35h ago UTC'\n",
        "\n",
        "#length of the moving average\n",
        "#https://www.investopedia.com/terms/e/ema.asp\n",
        "ema=30\n",
        "\n",
        "while True:\n",
        "\n",
        "  try:\n",
        "    #download data from Binance\n",
        "    dane=pd.DataFrame(client.get_historical_klines(cryptocurrency, interval, backTo), dtype=float)\n",
        "  except :\n",
        "    time.sleep(2)\n",
        "    continue\n",
        "\n",
        "  dane=dane[[0,1,2,3,4]]\n",
        "  dane.columns=['Date','Open','High','Low','Close']\n",
        "\n",
        "  #calculation of data for a moving average\n",
        "  dane['EMA']=ta.ema(close=dane.Close, length=ema).iloc[:,]\n",
        "\n",
        "  #if slb != 0 that means I'm in the market and the price hasn't increased by 5% yet\n",
        "  if slb != 0:\n",
        "    #checking if the price has increased above 5% since the purchase\n",
        "    if dane.Close.iloc[-1] < price_buy * 1.005:\n",
        "      # checking if the price fell below slb and EMA at the same time\n",
        "      if dane.Close.iloc[-1] < slb and dane.Close.iloc[-1] < dane.EMA.iloc[-1]:\n",
        "        #if the above conditions are met, we exit the market\n",
        "        traid = 'out'\n",
        "        slb = 0\n",
        "        price_sell = dane.Close.iloc[-1]\n",
        "        #throw the info to the consoles\n",
        "        print(str(price_sell)+' sell from slb')\n",
        "\n",
        "    #we are already 5% above the purchase price and we no longer protect ourselves\n",
        "    else:\n",
        "      slb = 0\n",
        "\n",
        "  #check if we are outside the market and if the price has crossed the ema from the bottom\n",
        "  elif (dane.Close.iloc[-1] > dane.EMA.iloc[-1]) and (last_price < dane.EMA.iloc[-1]) and traid == 'out':\n",
        "    #if so, we make a purchase\n",
        "    traid = 'buy'\n",
        "    #note the purchase price\n",
        "    price_buy = dane.Close.iloc[-1]\n",
        "    #set slb to 95% of the purchase price\n",
        "    slb = dane.EMA.iloc[-1]*0.995\n",
        "    #throw the info to the consoles\n",
        "    print(str(price_buy)+' buy from clasic')\n",
        "\n",
        "  #check if we are in the market and if the price has crossed the ema from the top\n",
        "  elif (dane.Close.iloc[-1] < dane.EMA.iloc[-1]) and (last_price > dane.EMA.iloc[-1]) and traid == 'buy':\n",
        "    #if so, we close the position\n",
        "    traid = 'out'\n",
        "    #set slb to 0 of the purchase price\n",
        "    slb = 0\n",
        "    #note the sell price\n",
        "    price_sell = dane.Close.iloc[-1]\n",
        "    #throw the info to the consoles\n",
        "    print(str(price_sell)+' sell from clasic')\n",
        "\n",
        "\n",
        "\n",
        "\n",
        "  i+=1\n",
        "  #cyclic tracking of parameters on the console\n",
        "  if i == 50:\n",
        "    print(dane.Close.iloc[-1], dane.EMA.iloc[-1])\n",
        "    i=0\n",
        "\n",
        "  time.sleep(1)"
      ]
    }
 
 
